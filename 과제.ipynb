{
 "cells": [
  {
   "cell_type": "code",
   "execution_count": 1,
   "metadata": {},
   "outputs": [],
   "source": [
    "import pandas as pd\n",
    "import numpy as np\n",
    "import matplotlib.pyplot as plt\n",
    "from sklearn.neighbors import KNeighborsClassifier\n",
    "from sklearn.tree import DecisionTreeClassifier\n",
    "from sklearn.ensemble import RandomForestClassifier\n",
    "from sklearn.model_selection import KFold\n",
    "from sklearn.model_selection import cross_val_score\n",
    "import seaborn as sns\n",
    "from sklearn.linear_model import LogisticRegression\n",
    "%matplotlib inline\n",
    "from sklearn.ensemble import GradientBoostingClassifier\n",
    "from sklearn.model_selection import train_test_split\n",
    "from sklearn.model_selection import StratifiedKFold\n",
    "from sklearn.model_selection import GridSearchCV\n",
    "from sklearn.metrics import accuracy_score, precision_score ,recall_score,confusion_matrix\n",
    "import warnings\n",
    "warnings.filterwarnings('ignore')\n",
    "from xgboost import XGBClassifier\n",
    "from sklearn.model_selection import GridSearchCV\n",
    "from hyperopt import fmin, tpe, Trials\n"
   ]
  },
  {
   "cell_type": "code",
   "execution_count": 2,
   "metadata": {},
   "outputs": [],
   "source": [
    "train=pd.read_csv('./data/train.csv')\n",
    "test=pd.read_csv('./data/test.csv')"
   ]
  },
  {
   "cell_type": "code",
   "execution_count": 3,
   "metadata": {},
   "outputs": [],
   "source": [
    "PassenegerID = test['PassengerId']"
   ]
  },
  {
   "cell_type": "code",
   "execution_count": 4,
   "metadata": {},
   "outputs": [
    {
     "data": {
      "text/plain": [
       "{'male': 0, 'female': 1}"
      ]
     },
     "execution_count": 4,
     "metadata": {},
     "output_type": "execute_result"
    }
   ],
   "source": [
    "# 남자 0 , 여자 1\n",
    "sex_mapping = {'male':0,'female':1}\n",
    "sex_mapping"
   ]
  },
  {
   "cell_type": "code",
   "execution_count": 5,
   "metadata": {},
   "outputs": [],
   "source": [
    "del train['PassengerId']\n",
    "del test['PassengerId']"
   ]
  },
  {
   "cell_type": "code",
   "execution_count": 6,
   "metadata": {},
   "outputs": [],
   "source": [
    "train_test_data=[train,test]\n",
    "\n",
    "for dataset in train_test_data:\n",
    "    dataset['Sex']=dataset['Sex'].map(sex_mapping)"
   ]
  },
  {
   "cell_type": "code",
   "execution_count": 7,
   "metadata": {},
   "outputs": [],
   "source": [
    "# 이름 추출\n",
    "# train['Cabin']=train['Cabin'].str[:1]\n",
    "# test['Cabin']=test['Cabin'].str[:1]\n",
    "for dataset in train_test_data:\n",
    "    dataset['Cabin']=dataset['Cabin'].str[:1]"
   ]
  },
  {
   "cell_type": "code",
   "execution_count": 8,
   "metadata": {},
   "outputs": [
    {
     "data": {
      "text/plain": [
       "{1: 0, 2: 1, 3: 2}"
      ]
     },
     "execution_count": 8,
     "metadata": {},
     "output_type": "execute_result"
    }
   ],
   "source": [
    "# Pclass 정규화\n",
    "pclass_mapping={1:0,2:1,3:2}\n",
    "pclass_mapping"
   ]
  },
  {
   "cell_type": "code",
   "execution_count": 9,
   "metadata": {},
   "outputs": [],
   "source": [
    "for dataset in train_test_data:\n",
    "    dataset['Pclass']=dataset['Pclass'].map(pclass_mapping)\n",
    "    "
   ]
  },
  {
   "cell_type": "code",
   "execution_count": 10,
   "metadata": {},
   "outputs": [
    {
     "data": {
      "text/plain": [
       "Pclass\n",
       "2    491\n",
       "0    216\n",
       "1    184\n",
       "Name: count, dtype: int64"
      ]
     },
     "execution_count": 10,
     "metadata": {},
     "output_type": "execute_result"
    }
   ],
   "source": [
    "# 1등급 =0 ,2등급=1, 3등급=2\n",
    "train['Pclass'].value_counts()"
   ]
  },
  {
   "cell_type": "code",
   "execution_count": 11,
   "metadata": {},
   "outputs": [],
   "source": [
    "# Embarked NaN 채우기\n",
    "train['Embarked']=train['Embarked'].fillna('S')"
   ]
  },
  {
   "cell_type": "code",
   "execution_count": 12,
   "metadata": {},
   "outputs": [
    {
     "data": {
      "text/plain": [
       "22.20210430107527"
      ]
     },
     "execution_count": 12,
     "metadata": {},
     "output_type": "execute_result"
    }
   ],
   "source": [
    "fare_mean=test[test['Pclass']==1]['Fare'].mean()\n",
    "fare_mean"
   ]
  },
  {
   "cell_type": "code",
   "execution_count": 13,
   "metadata": {},
   "outputs": [],
   "source": [
    "test.loc[test['Fare'].isnull(),'Fare']=fare_mean"
   ]
  },
  {
   "cell_type": "code",
   "execution_count": 14,
   "metadata": {},
   "outputs": [],
   "source": [
    "embarked_mapping={\n",
    "    'S':0\n",
    "    ,'Q':1\n",
    "    ,'C':2\n",
    "}\n",
    "for dataset in train_test_data:\n",
    "    dataset['Embarked']=dataset['Embarked'].map(embarked_mapping)"
   ]
  },
  {
   "cell_type": "code",
   "execution_count": 15,
   "metadata": {},
   "outputs": [],
   "source": [
    "train['Title']=train['Name'].str.extract('([A-Za-z]+\\.)',expand=False)"
   ]
  },
  {
   "cell_type": "code",
   "execution_count": 16,
   "metadata": {},
   "outputs": [],
   "source": [
    "test['Title']=test['Name'].str.extract('([A-Za-z]+\\.)',expand=False)"
   ]
  },
  {
   "cell_type": "code",
   "execution_count": 17,
   "metadata": {},
   "outputs": [],
   "source": [
    "# # for dataset in train_test_data:\n",
    "#     # dataset['Ticket_q'] = dataset['Ticket'].str.extract('(0-9]+) ', expand=False)\n",
    "# for dataset in train_test_data:\n",
    "#     dataset['Ticket_q'] = dataset['Ticket'].str.extract('([0-9].+) ', expand=False)"
   ]
  },
  {
   "cell_type": "code",
   "execution_count": 18,
   "metadata": {},
   "outputs": [],
   "source": [
    "del train['Ticket']\n",
    "del test['Ticket']"
   ]
  },
  {
   "cell_type": "code",
   "execution_count": 19,
   "metadata": {},
   "outputs": [],
   "source": [
    "del test['Name'] \n",
    "del train['Name'] "
   ]
  },
  {
   "cell_type": "code",
   "execution_count": 20,
   "metadata": {},
   "outputs": [],
   "source": [
    "for dataset in train_test_data:\n",
    "    dataset['Age'].fillna(dataset.groupby('Title')['Age'].transform('mean')\n",
    "    ,inplace=True\n",
    "    )\n"
   ]
  },
  {
   "cell_type": "code",
   "execution_count": 21,
   "metadata": {},
   "outputs": [],
   "source": [
    "train_name_mapping={\n",
    "    'Mr.':0, 'Miss.':1, 'Mrs.':2, 'Master.':3,'Dr.':3, 'Rev.':3, 'Mlle.':3, 'Major.':3,\n",
    "    'Col.':3, 'Countess.':3, 'Capt.':3, 'Ms.':3, 'Sir.':3, 'Lady.':3, 'Mme.':3, 'Don.':3,\n",
    "    'Jonkheer.':3\n",
    "}\n",
    "test_name_mapping={\n",
    "    'Mr.':0, 'Miss.':1, 'Mrs.':2, 'Master.':3\n",
    "    , 'Col.':3, 'Rev.':3, 'Ms.':3, 'Dr.':3,\n",
    "    'Dona.':3\n",
    "}"
   ]
  },
  {
   "cell_type": "code",
   "execution_count": 22,
   "metadata": {},
   "outputs": [],
   "source": [
    "train['Title']=train['Title'].map(train_name_mapping)\n",
    "test['Title']=test['Title'].map(test_name_mapping)"
   ]
  },
  {
   "cell_type": "code",
   "execution_count": 23,
   "metadata": {},
   "outputs": [],
   "source": [
    "for dataset in train_test_data:\n",
    "    dataset.loc[(dataset['Title']==0)&(dataset['Age']<=19),'Title']=4"
   ]
  },
  {
   "cell_type": "code",
   "execution_count": 24,
   "metadata": {},
   "outputs": [
    {
     "data": {
      "text/plain": [
       "Title\n",
       "0    464\n",
       "1    182\n",
       "2    125\n",
       "3     67\n",
       "4     53\n",
       "Name: count, dtype: int64"
      ]
     },
     "execution_count": 24,
     "metadata": {},
     "output_type": "execute_result"
    }
   ],
   "source": [
    "train['Title'].value_counts()"
   ]
  },
  {
   "cell_type": "code",
   "execution_count": 25,
   "metadata": {},
   "outputs": [],
   "source": [
    "for dataset in train_test_data:\n",
    "    dataset.loc[(dataset['Fare']<=7.91),'Fare']=0\n",
    "    dataset.loc[(dataset['Fare']>7.91)&(dataset['Fare']<=14.45),'Fare']=1\n",
    "    dataset.loc[(dataset['Fare']>14.45)&(dataset['Fare']<=31),'Fare']=2\n",
    "    dataset.loc[(dataset['Fare']>31),'Fare']=3\n",
    "    "
   ]
  },
  {
   "cell_type": "code",
   "execution_count": 26,
   "metadata": {},
   "outputs": [
    {
     "data": {
      "text/plain": [
       "Fare\n",
       "2.0    229\n",
       "0.0    223\n",
       "3.0    222\n",
       "1.0    217\n",
       "Name: count, dtype: int64"
      ]
     },
     "execution_count": 26,
     "metadata": {},
     "output_type": "execute_result"
    }
   ],
   "source": [
    "train['Fare'].value_counts()"
   ]
  },
  {
   "cell_type": "code",
   "execution_count": 27,
   "metadata": {},
   "outputs": [],
   "source": [
    "# train['Ticket_q'].value_counts()"
   ]
  },
  {
   "cell_type": "code",
   "execution_count": 28,
   "metadata": {},
   "outputs": [],
   "source": [
    "for dataset in train_test_data:    \n",
    "    #이산적 변수들\n",
    "    dataset['FamilySize'] = dataset ['SibSp'] + dataset['Parch'] + 1\n",
    "    dataset['FamilyD']=0\n",
    "    dataset.loc[(dataset['FamilySize']>1),'FamilyD']=1\n",
    "    dataset.loc[(dataset['FamilySize']>=4),'FamilyD']=2\n",
    "    dataset.loc[(dataset['Sex']==1)&(dataset['FamilyD']==0),'FamilyD']=3"
   ]
  },
  {
   "cell_type": "code",
   "execution_count": 29,
   "metadata": {},
   "outputs": [],
   "source": [
    "for dataset in train_test_data:\n",
    "    dataset['Father']=0\n",
    "    dataset['Mother']=0\n",
    "    dataset.loc[(dataset['Age']>=30)&(dataset['Age']<=50)&(dataset['Title']==0)&(dataset['Sex']==0),'Father']=1\n",
    "    dataset.loc[(dataset['Age']>=30)&(dataset['Age']<=50)&(dataset['Title']==2)&(dataset['Sex']==1),'Mother']=1"
   ]
  },
  {
   "cell_type": "code",
   "execution_count": 30,
   "metadata": {},
   "outputs": [],
   "source": [
    "for dataset in train_test_data:\n",
    "    dataset['noParch']=0\n",
    "    dataset['noSibSp']=0\n",
    "    dataset.loc[(dataset['Parch']==0)&(dataset['SibSp']>0),'noParch']=1\n",
    "    dataset.loc[(dataset['SibSp']==0)&(dataset['Parch']>0),'noSibSp']=1"
   ]
  },
  {
   "cell_type": "code",
   "execution_count": 31,
   "metadata": {},
   "outputs": [
    {
     "data": {
      "text/plain": [
       "Father\n",
       "0    611\n",
       "1    280\n",
       "Name: count, dtype: int64"
      ]
     },
     "execution_count": 31,
     "metadata": {},
     "output_type": "execute_result"
    }
   ],
   "source": [
    "train['Father'].value_counts()"
   ]
  },
  {
   "cell_type": "code",
   "execution_count": 32,
   "metadata": {},
   "outputs": [
    {
     "data": {
      "text/plain": [
       "noParch\n",
       "0    750\n",
       "1    141\n",
       "Name: count, dtype: int64"
      ]
     },
     "execution_count": 32,
     "metadata": {},
     "output_type": "execute_result"
    }
   ],
   "source": [
    "train['noParch'].value_counts()"
   ]
  },
  {
   "cell_type": "code",
   "execution_count": 33,
   "metadata": {},
   "outputs": [
    {
     "data": {
      "text/plain": [
       "noSibSp\n",
       "0    820\n",
       "1     71\n",
       "Name: count, dtype: int64"
      ]
     },
     "execution_count": 33,
     "metadata": {},
     "output_type": "execute_result"
    }
   ],
   "source": [
    "train['noSibSp'].value_counts()"
   ]
  },
  {
   "cell_type": "code",
   "execution_count": 34,
   "metadata": {},
   "outputs": [
    {
     "data": {
      "text/plain": [
       "FamilyD\n",
       "0    411\n",
       "1    263\n",
       "3    126\n",
       "2     91\n",
       "Name: count, dtype: int64"
      ]
     },
     "execution_count": 34,
     "metadata": {},
     "output_type": "execute_result"
    }
   ],
   "source": [
    "train['FamilyD'].value_counts()"
   ]
  },
  {
   "cell_type": "code",
   "execution_count": 35,
   "metadata": {},
   "outputs": [
    {
     "data": {
      "text/plain": [
       "Age\n",
       "32.368090    119\n",
       "21.773973     36\n",
       "24.000000     30\n",
       "22.000000     27\n",
       "18.000000     26\n",
       "            ... \n",
       "14.500000      1\n",
       "70.500000      1\n",
       "12.000000      1\n",
       "36.500000      1\n",
       "74.000000      1\n",
       "Name: count, Length: 92, dtype: int64"
      ]
     },
     "execution_count": 35,
     "metadata": {},
     "output_type": "execute_result"
    }
   ],
   "source": [
    "train['Age'].value_counts()"
   ]
  },
  {
   "cell_type": "code",
   "execution_count": 36,
   "metadata": {},
   "outputs": [
    {
     "data": {
      "text/plain": [
       "Sex\n",
       "0    30.903413\n",
       "1    27.643731\n",
       "Name: Age, dtype: float64"
      ]
     },
     "execution_count": 36,
     "metadata": {},
     "output_type": "execute_result"
    }
   ],
   "source": [
    "train.groupby(['Sex'])['Age'].mean()"
   ]
  },
  {
   "cell_type": "code",
   "execution_count": 37,
   "metadata": {},
   "outputs": [],
   "source": [
    "for dataset in train_test_data:\n",
    "    \n",
    "    dataset.loc[dataset['Age']<=16,'Age']=0\n",
    "    dataset.loc[(dataset['Age']>16)&(dataset['Age']<=26),'Age']=1\n",
    "    dataset.loc[(dataset['Age']>26)&(dataset['Age']<=36),'Age']=2\n",
    "    dataset.loc[dataset['Age']>36,'Age']=3"
   ]
  },
  {
   "cell_type": "code",
   "execution_count": 38,
   "metadata": {},
   "outputs": [
    {
     "data": {
      "text/plain": [
       "Cabin\n",
       "C    59\n",
       "B    47\n",
       "D    33\n",
       "E    32\n",
       "A    15\n",
       "F    13\n",
       "G     4\n",
       "T     1\n",
       "Name: count, dtype: int64"
      ]
     },
     "execution_count": 38,
     "metadata": {},
     "output_type": "execute_result"
    }
   ],
   "source": [
    "train['Cabin'].value_counts()"
   ]
  },
  {
   "cell_type": "code",
   "execution_count": 39,
   "metadata": {},
   "outputs": [],
   "source": [
    "test.loc[(test['Age'].isna()),'Age']=test.loc[(test['Pclass']==2)&(test['Sex']==1)]['Age'].mean()"
   ]
  },
  {
   "cell_type": "code",
   "execution_count": 40,
   "metadata": {},
   "outputs": [
    {
     "data": {
      "text/plain": [
       "<Axes: xlabel='Age', ylabel='Survived'>"
      ]
     },
     "execution_count": 40,
     "metadata": {},
     "output_type": "execute_result"
    },
    {
     "data": {
      "image/png": "[encoded data removed]",
      "text/plain": [
       "<Figure size 640x480 with 1 Axes>"
      ]
     },
     "metadata": {},
     "output_type": "display_data"
    }
   ],
   "source": [
    "sns.barplot(x=train['Age'],y=train['Survived'])"
   ]
  },
  {
   "cell_type": "code",
   "execution_count": 41,
   "metadata": {},
   "outputs": [],
   "source": [
    "f_mapping={1:1,2:2,3:3,4:4,5:5,6:5,7:5,8:5,9:5,10:5,11:5}"
   ]
  },
  {
   "cell_type": "code",
   "execution_count": 42,
   "metadata": {},
   "outputs": [],
   "source": [
    "for dataset in train_test_data:\n",
    "    dataset['FamilySize']=dataset['FamilySize'].map(f_mapping)"
   ]
  },
  {
   "cell_type": "code",
   "execution_count": 43,
   "metadata": {},
   "outputs": [],
   "source": [
    "del train['SibSp']\n",
    "del train['Parch']\n",
    "del test['SibSp']\n",
    "del test['Parch']"
   ]
  },
  {
   "cell_type": "code",
   "execution_count": 44,
   "metadata": {},
   "outputs": [],
   "source": [
    "cabin_mapping={\n",
    "    'A':1\n",
    "    ,'B':1\n",
    "    ,'C':2\n",
    "    ,'D':3\n",
    "    ,'E':4\n",
    "    ,'F':5\n",
    "    ,'G':5\n",
    "    ,'T':5\n",
    "}"
   ]
  },
  {
   "cell_type": "code",
   "execution_count": 45,
   "metadata": {},
   "outputs": [],
   "source": [
    "for dataset in train_test_data:\n",
    "    dataset['Cabin']=dataset['Cabin'].map(cabin_mapping)\n",
    "    "
   ]
  },
  {
   "cell_type": "code",
   "execution_count": 46,
   "metadata": {},
   "outputs": [],
   "source": [
    "\n",
    "for dataset in train_test_data:\n",
    "    dataset['Cabin'].fillna(dataset.groupby('Pclass')['Cabin'].transform('median'),inplace=True)\n"
   ]
  },
  {
   "cell_type": "code",
   "execution_count": 47,
   "metadata": {},
   "outputs": [],
   "source": [
    "del train['FamilySize']\n",
    "del test['FamilySize']"
   ]
  },
  {
   "cell_type": "code",
   "execution_count": 48,
   "metadata": {},
   "outputs": [
    {
     "data": {
      "text/html": [
       "<div>\n",
       "<style scoped>\n",
       "    .dataframe tbody tr th:only-of-type {\n",
       "        vertical-align: middle;\n",
       "    }\n",
       "\n",
       "    .dataframe tbody tr th {\n",
       "        vertical-align: top;\n",
       "    }\n",
       "\n",
       "    .dataframe thead th {\n",
       "        text-align: right;\n",
       "    }\n",
       "</style>\n",
       "<table border=\"1\" class=\"dataframe\">\n",
       "  <thead>\n",
       "    <tr style=\"text-align: right;\">\n",
       "      <th></th>\n",
       "      <th>Survived</th>\n",
       "      <th>Pclass</th>\n",
       "      <th>Sex</th>\n",
       "      <th>Age</th>\n",
       "      <th>Fare</th>\n",
       "      <th>Cabin</th>\n",
       "      <th>Embarked</th>\n",
       "      <th>Title</th>\n",
       "      <th>FamilyD</th>\n",
       "      <th>Father</th>\n",
       "      <th>Mother</th>\n",
       "      <th>noParch</th>\n",
       "      <th>noSibSp</th>\n",
       "    </tr>\n",
       "  </thead>\n",
       "  <tbody>\n",
       "    <tr>\n",
       "      <th>Survived</th>\n",
       "      <td>1.000000</td>\n",
       "      <td>-0.338481</td>\n",
       "      <td>0.543351</td>\n",
       "      <td>-0.089666</td>\n",
       "      <td>0.295875</td>\n",
       "      <td>-0.288457</td>\n",
       "      <td>0.167675</td>\n",
       "      <td>0.237210</td>\n",
       "      <td>0.416128</td>\n",
       "      <td>-0.300644</td>\n",
       "      <td>0.242810</td>\n",
       "      <td>0.100405</td>\n",
       "      <td>0.168288</td>\n",
       "    </tr>\n",
       "    <tr>\n",
       "      <th>Pclass</th>\n",
       "      <td>-0.338481</td>\n",
       "      <td>1.000000</td>\n",
       "      <td>-0.131900</td>\n",
       "      <td>-0.316689</td>\n",
       "      <td>-0.628459</td>\n",
       "      <td>0.880494</td>\n",
       "      <td>-0.162098</td>\n",
       "      <td>-0.048125</td>\n",
       "      <td>-0.083659</td>\n",
       "      <td>0.056653</td>\n",
       "      <td>-0.107143</td>\n",
       "      <td>-0.149112</td>\n",
       "      <td>-0.113647</td>\n",
       "    </tr>\n",
       "    <tr>\n",
       "      <th>Sex</th>\n",
       "      <td>0.543351</td>\n",
       "      <td>-0.131900</td>\n",
       "      <td>1.000000</td>\n",
       "      <td>-0.129753</td>\n",
       "      <td>0.248940</td>\n",
       "      <td>-0.108422</td>\n",
       "      <td>0.108262</td>\n",
       "      <td>0.298276</td>\n",
       "      <td>0.727004</td>\n",
       "      <td>-0.499385</td>\n",
       "      <td>0.410969</td>\n",
       "      <td>0.117860</td>\n",
       "      <td>0.199349</td>\n",
       "    </tr>\n",
       "    <tr>\n",
       "      <th>Age</th>\n",
       "      <td>-0.089666</td>\n",
       "      <td>-0.316689</td>\n",
       "      <td>-0.129753</td>\n",
       "      <td>1.000000</td>\n",
       "      <td>0.053269</td>\n",
       "      <td>-0.264387</td>\n",
       "      <td>0.004168</td>\n",
       "      <td>-0.332893</td>\n",
       "      <td>-0.210006</td>\n",
       "      <td>0.408784</td>\n",
       "      <td>0.242903</td>\n",
       "      <td>0.079354</td>\n",
       "      <td>-0.056110</td>\n",
       "    </tr>\n",
       "    <tr>\n",
       "      <th>Fare</th>\n",
       "      <td>0.295875</td>\n",
       "      <td>-0.628459</td>\n",
       "      <td>0.248940</td>\n",
       "      <td>0.053269</td>\n",
       "      <td>1.000000</td>\n",
       "      <td>-0.567640</td>\n",
       "      <td>0.112248</td>\n",
       "      <td>0.224464</td>\n",
       "      <td>0.250495</td>\n",
       "      <td>-0.176135</td>\n",
       "      <td>0.210234</td>\n",
       "      <td>0.263581</td>\n",
       "      <td>0.197080</td>\n",
       "    </tr>\n",
       "    <tr>\n",
       "      <th>Cabin</th>\n",
       "      <td>-0.288457</td>\n",
       "      <td>0.880494</td>\n",
       "      <td>-0.108422</td>\n",
       "      <td>-0.264387</td>\n",
       "      <td>-0.567640</td>\n",
       "      <td>1.000000</td>\n",
       "      <td>-0.240919</td>\n",
       "      <td>-0.040057</td>\n",
       "      <td>-0.080900</td>\n",
       "      <td>0.040981</td>\n",
       "      <td>-0.071146</td>\n",
       "      <td>-0.109062</td>\n",
       "      <td>-0.110572</td>\n",
       "    </tr>\n",
       "    <tr>\n",
       "      <th>Embarked</th>\n",
       "      <td>0.167675</td>\n",
       "      <td>-0.162098</td>\n",
       "      <td>0.108262</td>\n",
       "      <td>0.004168</td>\n",
       "      <td>0.112248</td>\n",
       "      <td>-0.240919</td>\n",
       "      <td>1.000000</td>\n",
       "      <td>-0.007750</td>\n",
       "      <td>0.078339</td>\n",
       "      <td>-0.020742</td>\n",
       "      <td>0.011424</td>\n",
       "      <td>0.088021</td>\n",
       "      <td>0.089535</td>\n",
       "    </tr>\n",
       "    <tr>\n",
       "      <th>Title</th>\n",
       "      <td>0.237210</td>\n",
       "      <td>-0.048125</td>\n",
       "      <td>0.298276</td>\n",
       "      <td>-0.332893</td>\n",
       "      <td>0.224464</td>\n",
       "      <td>-0.040057</td>\n",
       "      <td>-0.007750</td>\n",
       "      <td>1.000000</td>\n",
       "      <td>0.304471</td>\n",
       "      <td>-0.525152</td>\n",
       "      <td>0.260793</td>\n",
       "      <td>0.051011</td>\n",
       "      <td>0.103959</td>\n",
       "    </tr>\n",
       "    <tr>\n",
       "      <th>FamilyD</th>\n",
       "      <td>0.416128</td>\n",
       "      <td>-0.083659</td>\n",
       "      <td>0.727004</td>\n",
       "      <td>-0.210006</td>\n",
       "      <td>0.250495</td>\n",
       "      <td>-0.080900</td>\n",
       "      <td>0.078339</td>\n",
       "      <td>0.304471</td>\n",
       "      <td>1.000000</td>\n",
       "      <td>-0.430304</td>\n",
       "      <td>0.166765</td>\n",
       "      <td>0.037026</td>\n",
       "      <td>0.036831</td>\n",
       "    </tr>\n",
       "    <tr>\n",
       "      <th>Father</th>\n",
       "      <td>-0.300644</td>\n",
       "      <td>0.056653</td>\n",
       "      <td>-0.499385</td>\n",
       "      <td>0.408784</td>\n",
       "      <td>-0.176135</td>\n",
       "      <td>0.040981</td>\n",
       "      <td>-0.020742</td>\n",
       "      <td>-0.525152</td>\n",
       "      <td>-0.430304</td>\n",
       "      <td>1.000000</td>\n",
       "      <td>-0.205231</td>\n",
       "      <td>-0.041798</td>\n",
       "      <td>-0.136702</td>\n",
       "    </tr>\n",
       "    <tr>\n",
       "      <th>Mother</th>\n",
       "      <td>0.242810</td>\n",
       "      <td>-0.107143</td>\n",
       "      <td>0.410969</td>\n",
       "      <td>0.242903</td>\n",
       "      <td>0.210234</td>\n",
       "      <td>-0.071146</td>\n",
       "      <td>0.011424</td>\n",
       "      <td>0.260793</td>\n",
       "      <td>0.166765</td>\n",
       "      <td>-0.205231</td>\n",
       "      <td>1.000000</td>\n",
       "      <td>0.167586</td>\n",
       "      <td>0.119766</td>\n",
       "    </tr>\n",
       "    <tr>\n",
       "      <th>noParch</th>\n",
       "      <td>0.100405</td>\n",
       "      <td>-0.149112</td>\n",
       "      <td>0.117860</td>\n",
       "      <td>0.079354</td>\n",
       "      <td>0.263581</td>\n",
       "      <td>-0.109062</td>\n",
       "      <td>0.088021</td>\n",
       "      <td>0.051011</td>\n",
       "      <td>0.037026</td>\n",
       "      <td>-0.041798</td>\n",
       "      <td>0.167586</td>\n",
       "      <td>1.000000</td>\n",
       "      <td>-0.127585</td>\n",
       "    </tr>\n",
       "    <tr>\n",
       "      <th>noSibSp</th>\n",
       "      <td>0.168288</td>\n",
       "      <td>-0.113647</td>\n",
       "      <td>0.199349</td>\n",
       "      <td>-0.056110</td>\n",
       "      <td>0.197080</td>\n",
       "      <td>-0.110572</td>\n",
       "      <td>0.089535</td>\n",
       "      <td>0.103959</td>\n",
       "      <td>0.036831</td>\n",
       "      <td>-0.136702</td>\n",
       "      <td>0.119766</td>\n",
       "      <td>-0.127585</td>\n",
       "      <td>1.000000</td>\n",
       "    </tr>\n",
       "  </tbody>\n",
       "</table>\n",
       "</div>"
      ],
      "text/plain": [
       "          Survived    Pclass       Sex       Age      Fare     Cabin   \n",
       "Survived  1.000000 -0.338481  0.543351 -0.089666  0.295875 -0.288457  \\\n",
       "Pclass   -0.338481  1.000000 -0.131900 -0.316689 -0.628459  0.880494   \n",
       "Sex       0.543351 -0.131900  1.000000 -0.129753  0.248940 -0.108422   \n",
       "Age      -0.089666 -0.316689 -0.129753  1.000000  0.053269 -0.264387   \n",
       "Fare      0.295875 -0.628459  0.248940  0.053269  1.000000 -0.567640   \n",
       "Cabin    -0.288457  0.880494 -0.108422 -0.264387 -0.567640  1.000000   \n",
       "Embarked  0.167675 -0.162098  0.108262  0.004168  0.112248 -0.240919   \n",
       "Title     0.237210 -0.048125  0.298276 -0.332893  0.224464 -0.040057   \n",
       "FamilyD   0.416128 -0.083659  0.727004 -0.210006  0.250495 -0.080900   \n",
       "Father   -0.300644  0.056653 -0.499385  0.408784 -0.176135  0.040981   \n",
       "Mother    0.242810 -0.107143  0.410969  0.242903  0.210234 -0.071146   \n",
       "noParch   0.100405 -0.149112  0.117860  0.079354  0.263581 -0.109062   \n",
       "noSibSp   0.168288 -0.113647  0.199349 -0.056110  0.197080 -0.110572   \n",
       "\n",
       "          Embarked     Title   FamilyD    Father    Mother   noParch   noSibSp  \n",
       "Survived  0.167675  0.237210  0.416128 -0.300644  0.242810  0.100405  0.168288  \n",
       "Pclass   -0.162098 -0.048125 -0.083659  0.056653 -0.107143 -0.149112 -0.113647  \n",
       "Sex       0.108262  0.298276  0.727004 -0.499385  0.410969  0.117860  0.199349  \n",
       "Age       0.004168 -0.332893 -0.210006  0.408784  0.242903  0.079354 -0.056110  \n",
       "Fare      0.112248  0.224464  0.250495 -0.176135  0.210234  0.263581  0.197080  \n",
       "Cabin    -0.240919 -0.040057 -0.080900  0.040981 -0.071146 -0.109062 -0.110572  \n",
       "Embarked  1.000000 -0.007750  0.078339 -0.020742  0.011424  0.088021  0.089535  \n",
       "Title    -0.007750  1.000000  0.304471 -0.525152  0.260793  0.051011  0.103959  \n",
       "FamilyD   0.078339  0.304471  1.000000 -0.430304  0.166765  0.037026  0.036831  \n",
       "Father   -0.020742 -0.525152 -0.430304  1.000000 -0.205231 -0.041798 -0.136702  \n",
       "Mother    0.011424  0.260793  0.166765 -0.205231  1.000000  0.167586  0.119766  \n",
       "noParch   0.088021  0.051011  0.037026 -0.041798  0.167586  1.000000 -0.127585  \n",
       "noSibSp   0.089535  0.103959  0.036831 -0.136702  0.119766 -0.127585  1.000000  "
      ]
     },
     "execution_count": 48,
     "metadata": {},
     "output_type": "execute_result"
    }
   ],
   "source": [
    "train.corr()"
   ]
  },
  {
   "cell_type": "code",
   "execution_count": 49,
   "metadata": {},
   "outputs": [
    {
     "data": {
      "text/plain": [
       "((891, 12), (891,))"
      ]
     },
     "execution_count": 49,
     "metadata": {},
     "output_type": "execute_result"
    }
   ],
   "source": [
    "target= train['Survived']\n",
    "train_data=train.drop('Survived',axis=1)\n",
    "train_data.shape,target.shape"
   ]
  },
  {
   "cell_type": "code",
   "execution_count": 50,
   "metadata": {},
   "outputs": [],
   "source": [
    "x_train,x_test,y_train,y_test=train_test_split(train_data,target,random_state=42,test_size=0.2,stratify=target)\n"
   ]
  },
  {
   "attachments": {},
   "cell_type": "markdown",
   "metadata": {},
   "source": [
    "### XGBoost 적용\n",
    "---"
   ]
  },
  {
   "cell_type": "code",
   "execution_count": 53,
   "metadata": {},
   "outputs": [],
   "source": [
    "from sklearn.metrics import confusion_matrix, accuracy_score\n",
    "from sklearn.metrics import precision_score, recall_score\n",
    "from sklearn.metrics import f1_score, roc_auc_score\n",
    "\n",
    "def get_clf_eval(y_test, pred=None, pred_proba=None):\n",
    "    confusion = confusion_matrix( y_test, pred)\n",
    "    accuracy = accuracy_score(y_test , pred)\n",
    "    precision = precision_score(y_test , pred)\n",
    "    recall = recall_score(y_test , pred)\n",
    "    f1 = f1_score(y_test,pred)\n",
    "    # ROC-AUC 추가 \n",
    "    roc_auc = roc_auc_score(y_test, pred_proba)\n",
    "    print('오차 행렬')\n",
    "    print(confusion)\n",
    "    # ROC-AUC print 추가\n",
    "    print('정확도: {0:.4f}, 정밀도: {1:.4f}, 재현율: {2:.4f},\\\n",
    "    F1: {3:.4f}, AUC:{4:.4f}'.format(accuracy, precision, recall, f1, roc_auc))\n"
   ]
  },
  {
   "cell_type": "code",
   "execution_count": 58,
   "metadata": {},
   "outputs": [],
   "source": [
    "test_target=pd.read_csv('../answer.csv')\n",
    "del test_target['PassengerId']"
   ]
  },
  {
   "cell_type": "code",
   "execution_count": null,
   "metadata": {},
   "outputs": [
    {
     "name": "stdout",
     "output_type": "stream",
     "text": [
      "0.7679425837320574\n"
     ]
    }
   ],
   "source": [
    "xgb  = XGBClassifier(learning_rate=0.1059,n_estimators=500,max_depth=4,min_child_weight=2)\n",
    "xgb.fit(x_train, y_train)\n",
    "Y_pred = xgb.predict(test)\n",
    "print(accuracy_score(test_target,Y_pred))\n"
   ]
  },
  {
   "cell_type": "code",
   "execution_count": null,
   "metadata": {},
   "outputs": [
    {
     "name": "stdout",
     "output_type": "stream",
     "text": [
      "0.8104264475743349\n"
     ]
    }
   ],
   "source": [
    "k_fold=KFold(n_splits=10,shuffle=True,random_state=42)\n",
    "clf = KNeighborsClassifier(n_neighbors=13) # model object\n",
    "scoring = 'accuracy' # 평가 지표 : 정확도\n",
    "score = cross_val_score(clf,x_train,y_train,cv=k_fold,n_jobs=-1,scoring=scoring)\n",
    "print(score.mean())"
   ]
  },
  {
   "cell_type": "code",
   "execution_count": null,
   "metadata": {},
   "outputs": [
    {
     "name": "stdout",
     "output_type": "stream",
     "text": [
      "0.8202600216684723\n"
     ]
    }
   ],
   "source": [
    "lr_clf=LogisticRegression(solver='liblinear')\n",
    "lr_clf.fit(train_data,target)\n",
    "score=cross_val_score(lr_clf,x_train,y_train,cv=5,n_jobs=-1)\n",
    "print(score.mean())"
   ]
  },
  {
   "cell_type": "code",
   "execution_count": null,
   "metadata": {},
   "outputs": [
    {
     "name": "stdout",
     "output_type": "stream",
     "text": [
      "0.8132473160642174\n"
     ]
    }
   ],
   "source": [
    "k_fold=StratifiedKFold(n_splits=5,shuffle=True,random_state=42)\n",
    "clf = RandomForestClassifier(n_estimators=50,max_depth=4,max_features=2,min_samples_leaf=3,min_samples_split=2) # model object\n",
    "scoring = 'accuracy' # 평가 지표 : 정확도\n",
    "score = cross_val_score(clf,x_train,y_train,cv=k_fold,n_jobs=-1,scoring=scoring)\n",
    "print(score.mean())"
   ]
  },
  {
   "cell_type": "code",
   "execution_count": null,
   "metadata": {},
   "outputs": [
    {
     "name": "stdout",
     "output_type": "stream",
     "text": [
      "랜덤 포레스트 정확도: 80.4469\n"
     ]
    }
   ],
   "source": [
    "from sklearn.ensemble import RandomForestClassifier\n",
    "from sklearn.metrics import accuracy_score\n",
    "import pandas as pd\n",
    "import warnings\n",
    "warnings.filterwarnings('ignore')\n",
    "\n",
    "# 랜덤 포레스트 학습 및 별도의 테스트 셋으로 예측 성능 평가\n",
    "rf_clf = RandomForestClassifier(random_state=0\n",
    "    ,n_estimators=610\n",
    "    ,max_depth=4\n",
    "    ,min_samples_leaf=1\n",
    "    ,n_jobs=-1\n",
    "    )\n",
    "rf_clf.fit(x_train , y_train)\n",
    "pred = rf_clf.predict(x_test)\n",
    "accuracy = accuracy_score(y_test , pred)\n",
    "print('랜덤 포레스트 정확도: {0:.4f}'.format(accuracy*100))"
   ]
  },
  {
   "cell_type": "code",
   "execution_count": null,
   "metadata": {},
   "outputs": [],
   "source": [
    "\n",
    "params = {\n",
    "    'n_estimators':[50,100,200,400,1000],\n",
    "    'max_depth' : [2,3,4],\n",
    "    'min_samples_leaf' : [2,3,5,7,9], \n",
    "    'min_samples_split' : [2,4,6,8,10,12,14,16], # 분리 되기 위한 최소 데이터 수\n",
    "}\n"
   ]
  },
  {
   "cell_type": "code",
   "execution_count": null,
   "metadata": {},
   "outputs": [
    {
     "name": "stdout",
     "output_type": "stream",
     "text": [
      "예측 정확도: 0.7871\n"
     ]
    }
   ],
   "source": [
    "rf_clf1 = RandomForestClassifier(n_estimators=400, max_depth=4, min_samples_leaf=2, \\\n",
    "                                min_samples_split=6, random_state=0)\n",
    "rf_clf1.fit(x_train , y_train)\n",
    "pred = rf_clf1.predict(test)\n",
    "print('예측 정확도: {0:.4f}'.format(accuracy_score(test_target , pred)))"
   ]
  },
  {
   "cell_type": "code",
   "execution_count": 60,
   "metadata": {},
   "outputs": [
    {
     "name": "stdout",
     "output_type": "stream",
     "text": [
      "1 0.7918660287081339\n",
      "2 0.7894736842105263\n",
      "3 0.7822966507177034\n",
      "4 0.7894736842105263\n",
      "5 0.7966507177033493\n",
      "6 0.7918660287081339\n",
      "7 0.7870813397129187\n",
      "8 0.784688995215311\n",
      "9 0.7942583732057417\n",
      "10 0.784688995215311\n",
      "11 0.7918660287081339\n",
      "12 0.7918660287081339\n",
      "13 0.7942583732057417\n",
      "14 0.7942583732057417\n",
      "15 0.7870813397129187\n",
      "16 0.7870813397129187\n",
      "17 0.7870813397129187\n",
      "18 0.7918660287081339\n",
      "19 0.7942583732057417\n",
      "20 0.7870813397129187\n",
      "21 0.7870813397129187\n",
      "22 0.7894736842105263\n",
      "23 0.7894736842105263\n",
      "24 0.7918660287081339\n",
      "25 0.7870813397129187\n",
      "26 0.7870813397129187\n",
      "27 0.7918660287081339\n",
      "28 0.7918660287081339\n",
      "29 0.7966507177033493\n",
      "30 0.7870813397129187\n",
      "31 0.784688995215311\n",
      "32 0.7942583732057417\n",
      "33 0.784688995215311\n",
      "34 0.7870813397129187\n",
      "35 0.7870813397129187\n",
      "36 0.7894736842105263\n",
      "37 0.7822966507177034\n",
      "38 0.7894736842105263\n",
      "39 0.7894736842105263\n",
      "40 0.7894736842105263\n",
      "41 0.7870813397129187\n",
      "42 0.7942583732057417\n",
      "43 0.7894736842105263\n",
      "44 0.7870813397129187\n",
      "45 0.7966507177033493\n",
      "46 0.7894736842105263\n",
      "47 0.7966507177033493\n",
      "48 0.784688995215311\n",
      "49 0.7990430622009569\n",
      "50 0.7918660287081339\n",
      "51 0.7894736842105263\n",
      "52 0.7942583732057417\n",
      "53 0.7918660287081339\n",
      "54 0.7942583732057417\n",
      "55 0.7894736842105263\n",
      "56 0.7894736842105263\n",
      "57 0.7990430622009569\n",
      "58 0.7870813397129187\n",
      "59 0.7870813397129187\n",
      "60 0.7870813397129187\n",
      "61 0.7918660287081339\n",
      "62 0.7918660287081339\n",
      "63 0.7870813397129187\n",
      "64 0.7870813397129187\n",
      "65 0.7894736842105263\n",
      "66 0.784688995215311\n",
      "67 0.7894736842105263\n",
      "68 0.7894736842105263\n",
      "69 0.7870813397129187\n",
      "70 0.7870813397129187\n",
      "71 0.7894736842105263\n",
      "72 0.7870813397129187\n",
      "73 0.7942583732057417\n",
      "74 0.7894736842105263\n",
      "75 0.7870813397129187\n",
      "76 0.7942583732057417\n",
      "77 0.7966507177033493\n",
      "78 0.7894736842105263\n",
      "79 0.7918660287081339\n",
      "80 0.7822966507177034\n",
      "81 0.7870813397129187\n",
      "82 0.7918660287081339\n",
      "83 0.7870813397129187\n",
      "84 0.7870813397129187\n",
      "85 0.784688995215311\n",
      "86 0.7870813397129187\n",
      "87 0.784688995215311\n",
      "88 0.7942583732057417\n",
      "89 0.7870813397129187\n",
      "90 0.7870813397129187\n",
      "91 0.784688995215311\n",
      "92 0.784688995215311\n",
      "93 0.7894736842105263\n",
      "94 0.7870813397129187\n",
      "95 0.7870813397129187\n",
      "96 0.7870813397129187\n",
      "97 0.7918660287081339\n",
      "98 0.7799043062200957\n",
      "99 0.7822966507177034\n",
      "100 0.7870813397129187\n",
      "101 0.784688995215311\n",
      "102 0.7870813397129187\n",
      "103 0.7894736842105263\n",
      "104 0.7870813397129187\n",
      "105 0.7870813397129187\n",
      "106 0.7870813397129187\n",
      "107 0.7822966507177034\n",
      "108 0.7918660287081339\n",
      "109 0.7942583732057417\n",
      "110 0.7894736842105263\n",
      "111 0.7942583732057417\n",
      "112 0.7894736842105263\n",
      "113 0.7918660287081339\n",
      "114 0.7870813397129187\n",
      "115 0.7966507177033493\n",
      "116 0.7822966507177034\n",
      "117 0.7894736842105263\n",
      "118 0.7870813397129187\n",
      "119 0.784688995215311\n",
      "120 0.784688995215311\n",
      "121 0.7894736842105263\n",
      "122 0.7918660287081339\n",
      "123 0.7822966507177034\n",
      "124 0.7870813397129187\n",
      "125 0.7942583732057417\n",
      "126 0.7822966507177034\n",
      "127 0.7870813397129187\n",
      "128 0.7918660287081339\n",
      "129 0.7870813397129187\n"
     ]
    },
    {
     "ename": "KeyboardInterrupt",
     "evalue": "",
     "output_type": "error",
     "traceback": [
      "\u001b[1;31m---------------------------------------------------------------------------\u001b[0m",
      "\u001b[1;31mKeyboardInterrupt\u001b[0m                         Traceback (most recent call last)",
      "Cell \u001b[1;32mIn[60], line 9\u001b[0m\n\u001b[0;32m      2\u001b[0m \u001b[39mfor\u001b[39;00m r \u001b[39min\u001b[39;00m \u001b[39mrange\u001b[39m(\u001b[39m1\u001b[39m,\u001b[39m500\u001b[39m,\u001b[39m1\u001b[39m):\n\u001b[0;32m      3\u001b[0m     clf \u001b[39m=\u001b[39m RandomForestClassifier(\n\u001b[0;32m      4\u001b[0m         max_depth\u001b[39m=\u001b[39m\u001b[39m4\u001b[39m\n\u001b[0;32m      5\u001b[0m         \u001b[39m# ,n_estimators=200\u001b[39;00m\n\u001b[0;32m      6\u001b[0m         ,n_jobs\u001b[39m=\u001b[39m\u001b[39m-\u001b[39m\u001b[39m1\u001b[39m\n\u001b[0;32m      7\u001b[0m         ,random_state\u001b[39m=\u001b[39mr\n\u001b[0;32m      8\u001b[0m         )\n\u001b[1;32m----> 9\u001b[0m     clf\u001b[39m.\u001b[39;49mfit(x_train,y_train) \u001b[39m# 학습\u001b[39;00m\n\u001b[0;32m     10\u001b[0m     prediction\u001b[39m=\u001b[39mclf\u001b[39m.\u001b[39mpredict(test)\n\u001b[0;32m     11\u001b[0m     result\u001b[39m=\u001b[39maccuracy_score(test_target,prediction)\n",
      "File \u001b[1;32mc:\\Users\\hyunsu\\anaconda3\\envs\\pandas-dev\\lib\\site-packages\\sklearn\\ensemble\\_forest.py:473\u001b[0m, in \u001b[0;36mBaseForest.fit\u001b[1;34m(self, X, y, sample_weight)\u001b[0m\n\u001b[0;32m    462\u001b[0m trees \u001b[39m=\u001b[39m [\n\u001b[0;32m    463\u001b[0m     \u001b[39mself\u001b[39m\u001b[39m.\u001b[39m_make_estimator(append\u001b[39m=\u001b[39m\u001b[39mFalse\u001b[39;00m, random_state\u001b[39m=\u001b[39mrandom_state)\n\u001b[0;32m    464\u001b[0m     \u001b[39mfor\u001b[39;00m i \u001b[39min\u001b[39;00m \u001b[39mrange\u001b[39m(n_more_estimators)\n\u001b[0;32m    465\u001b[0m ]\n\u001b[0;32m    467\u001b[0m \u001b[39m# Parallel loop: we prefer the threading backend as the Cython code\u001b[39;00m\n\u001b[0;32m    468\u001b[0m \u001b[39m# for fitting the trees is internally releasing the Python GIL\u001b[39;00m\n\u001b[0;32m    469\u001b[0m \u001b[39m# making threading more efficient than multiprocessing in\u001b[39;00m\n\u001b[0;32m    470\u001b[0m \u001b[39m# that case. However, for joblib 0.12+ we respect any\u001b[39;00m\n\u001b[0;32m    471\u001b[0m \u001b[39m# parallel_backend contexts set at a higher level,\u001b[39;00m\n\u001b[0;32m    472\u001b[0m \u001b[39m# since correctness does not rely on using threads.\u001b[39;00m\n\u001b[1;32m--> 473\u001b[0m trees \u001b[39m=\u001b[39m Parallel(\n\u001b[0;32m    474\u001b[0m     n_jobs\u001b[39m=\u001b[39;49m\u001b[39mself\u001b[39;49m\u001b[39m.\u001b[39;49mn_jobs,\n\u001b[0;32m    475\u001b[0m     verbose\u001b[39m=\u001b[39;49m\u001b[39mself\u001b[39;49m\u001b[39m.\u001b[39;49mverbose,\n\u001b[0;32m    476\u001b[0m     prefer\u001b[39m=\u001b[39;49m\u001b[39m\"\u001b[39;49m\u001b[39mthreads\u001b[39;49m\u001b[39m\"\u001b[39;49m,\n\u001b[0;32m    477\u001b[0m )(\n\u001b[0;32m    478\u001b[0m     delayed(_parallel_build_trees)(\n\u001b[0;32m    479\u001b[0m         t,\n\u001b[0;32m    480\u001b[0m         \u001b[39mself\u001b[39;49m\u001b[39m.\u001b[39;49mbootstrap,\n\u001b[0;32m    481\u001b[0m         X,\n\u001b[0;32m    482\u001b[0m         y,\n\u001b[0;32m    483\u001b[0m         sample_weight,\n\u001b[0;32m    484\u001b[0m         i,\n\u001b[0;32m    485\u001b[0m         \u001b[39mlen\u001b[39;49m(trees),\n\u001b[0;32m    486\u001b[0m         verbose\u001b[39m=\u001b[39;49m\u001b[39mself\u001b[39;49m\u001b[39m.\u001b[39;49mverbose,\n\u001b[0;32m    487\u001b[0m         class_weight\u001b[39m=\u001b[39;49m\u001b[39mself\u001b[39;49m\u001b[39m.\u001b[39;49mclass_weight,\n\u001b[0;32m    488\u001b[0m         n_samples_bootstrap\u001b[39m=\u001b[39;49mn_samples_bootstrap,\n\u001b[0;32m    489\u001b[0m     )\n\u001b[0;32m    490\u001b[0m     \u001b[39mfor\u001b[39;49;00m i, t \u001b[39min\u001b[39;49;00m \u001b[39menumerate\u001b[39;49m(trees)\n\u001b[0;32m    491\u001b[0m )\n\u001b[0;32m    493\u001b[0m \u001b[39m# Collect newly grown trees\u001b[39;00m\n\u001b[0;32m    494\u001b[0m \u001b[39mself\u001b[39m\u001b[39m.\u001b[39mestimators_\u001b[39m.\u001b[39mextend(trees)\n",
      "File \u001b[1;32mc:\\Users\\hyunsu\\anaconda3\\envs\\pandas-dev\\lib\\site-packages\\sklearn\\utils\\parallel.py:63\u001b[0m, in \u001b[0;36mParallel.__call__\u001b[1;34m(self, iterable)\u001b[0m\n\u001b[0;32m     58\u001b[0m config \u001b[39m=\u001b[39m get_config()\n\u001b[0;32m     59\u001b[0m iterable_with_config \u001b[39m=\u001b[39m (\n\u001b[0;32m     60\u001b[0m     (_with_config(delayed_func, config), args, kwargs)\n\u001b[0;32m     61\u001b[0m     \u001b[39mfor\u001b[39;00m delayed_func, args, kwargs \u001b[39min\u001b[39;00m iterable\n\u001b[0;32m     62\u001b[0m )\n\u001b[1;32m---> 63\u001b[0m \u001b[39mreturn\u001b[39;00m \u001b[39msuper\u001b[39;49m()\u001b[39m.\u001b[39;49m\u001b[39m__call__\u001b[39;49m(iterable_with_config)\n",
      "File \u001b[1;32mc:\\Users\\hyunsu\\anaconda3\\envs\\pandas-dev\\lib\\site-packages\\joblib\\parallel.py:1098\u001b[0m, in \u001b[0;36mParallel.__call__\u001b[1;34m(self, iterable)\u001b[0m\n\u001b[0;32m   1095\u001b[0m     \u001b[39mself\u001b[39m\u001b[39m.\u001b[39m_iterating \u001b[39m=\u001b[39m \u001b[39mFalse\u001b[39;00m\n\u001b[0;32m   1097\u001b[0m \u001b[39mwith\u001b[39;00m \u001b[39mself\u001b[39m\u001b[39m.\u001b[39m_backend\u001b[39m.\u001b[39mretrieval_context():\n\u001b[1;32m-> 1098\u001b[0m     \u001b[39mself\u001b[39;49m\u001b[39m.\u001b[39;49mretrieve()\n\u001b[0;32m   1099\u001b[0m \u001b[39m# Make sure that we get a last message telling us we are done\u001b[39;00m\n\u001b[0;32m   1100\u001b[0m elapsed_time \u001b[39m=\u001b[39m time\u001b[39m.\u001b[39mtime() \u001b[39m-\u001b[39m \u001b[39mself\u001b[39m\u001b[39m.\u001b[39m_start_time\n",
      "File \u001b[1;32mc:\\Users\\hyunsu\\anaconda3\\envs\\pandas-dev\\lib\\site-packages\\joblib\\parallel.py:975\u001b[0m, in \u001b[0;36mParallel.retrieve\u001b[1;34m(self)\u001b[0m\n\u001b[0;32m    973\u001b[0m \u001b[39mtry\u001b[39;00m:\n\u001b[0;32m    974\u001b[0m     \u001b[39mif\u001b[39;00m \u001b[39mgetattr\u001b[39m(\u001b[39mself\u001b[39m\u001b[39m.\u001b[39m_backend, \u001b[39m'\u001b[39m\u001b[39msupports_timeout\u001b[39m\u001b[39m'\u001b[39m, \u001b[39mFalse\u001b[39;00m):\n\u001b[1;32m--> 975\u001b[0m         \u001b[39mself\u001b[39m\u001b[39m.\u001b[39m_output\u001b[39m.\u001b[39mextend(job\u001b[39m.\u001b[39;49mget(timeout\u001b[39m=\u001b[39;49m\u001b[39mself\u001b[39;49m\u001b[39m.\u001b[39;49mtimeout))\n\u001b[0;32m    976\u001b[0m     \u001b[39melse\u001b[39;00m:\n\u001b[0;32m    977\u001b[0m         \u001b[39mself\u001b[39m\u001b[39m.\u001b[39m_output\u001b[39m.\u001b[39mextend(job\u001b[39m.\u001b[39mget())\n",
      "File \u001b[1;32mc:\\Users\\hyunsu\\anaconda3\\envs\\pandas-dev\\lib\\multiprocessing\\pool.py:768\u001b[0m, in \u001b[0;36mApplyResult.get\u001b[1;34m(self, timeout)\u001b[0m\n\u001b[0;32m    767\u001b[0m \u001b[39mdef\u001b[39;00m \u001b[39mget\u001b[39m(\u001b[39mself\u001b[39m, timeout\u001b[39m=\u001b[39m\u001b[39mNone\u001b[39;00m):\n\u001b[1;32m--> 768\u001b[0m     \u001b[39mself\u001b[39;49m\u001b[39m.\u001b[39;49mwait(timeout)\n\u001b[0;32m    769\u001b[0m     \u001b[39mif\u001b[39;00m \u001b[39mnot\u001b[39;00m \u001b[39mself\u001b[39m\u001b[39m.\u001b[39mready():\n\u001b[0;32m    770\u001b[0m         \u001b[39mraise\u001b[39;00m \u001b[39mTimeoutError\u001b[39;00m\n",
      "File \u001b[1;32mc:\\Users\\hyunsu\\anaconda3\\envs\\pandas-dev\\lib\\multiprocessing\\pool.py:765\u001b[0m, in \u001b[0;36mApplyResult.wait\u001b[1;34m(self, timeout)\u001b[0m\n\u001b[0;32m    764\u001b[0m \u001b[39mdef\u001b[39;00m \u001b[39mwait\u001b[39m(\u001b[39mself\u001b[39m, timeout\u001b[39m=\u001b[39m\u001b[39mNone\u001b[39;00m):\n\u001b[1;32m--> 765\u001b[0m     \u001b[39mself\u001b[39;49m\u001b[39m.\u001b[39;49m_event\u001b[39m.\u001b[39;49mwait(timeout)\n",
      "File \u001b[1;32mc:\\Users\\hyunsu\\anaconda3\\envs\\pandas-dev\\lib\\threading.py:607\u001b[0m, in \u001b[0;36mEvent.wait\u001b[1;34m(self, timeout)\u001b[0m\n\u001b[0;32m    605\u001b[0m signaled \u001b[39m=\u001b[39m \u001b[39mself\u001b[39m\u001b[39m.\u001b[39m_flag\n\u001b[0;32m    606\u001b[0m \u001b[39mif\u001b[39;00m \u001b[39mnot\u001b[39;00m signaled:\n\u001b[1;32m--> 607\u001b[0m     signaled \u001b[39m=\u001b[39m \u001b[39mself\u001b[39;49m\u001b[39m.\u001b[39;49m_cond\u001b[39m.\u001b[39;49mwait(timeout)\n\u001b[0;32m    608\u001b[0m \u001b[39mreturn\u001b[39;00m signaled\n",
      "File \u001b[1;32mc:\\Users\\hyunsu\\anaconda3\\envs\\pandas-dev\\lib\\threading.py:320\u001b[0m, in \u001b[0;36mCondition.wait\u001b[1;34m(self, timeout)\u001b[0m\n\u001b[0;32m    318\u001b[0m \u001b[39mtry\u001b[39;00m:    \u001b[39m# restore state no matter what (e.g., KeyboardInterrupt)\u001b[39;00m\n\u001b[0;32m    319\u001b[0m     \u001b[39mif\u001b[39;00m timeout \u001b[39mis\u001b[39;00m \u001b[39mNone\u001b[39;00m:\n\u001b[1;32m--> 320\u001b[0m         waiter\u001b[39m.\u001b[39;49macquire()\n\u001b[0;32m    321\u001b[0m         gotit \u001b[39m=\u001b[39m \u001b[39mTrue\u001b[39;00m\n\u001b[0;32m    322\u001b[0m     \u001b[39melse\u001b[39;00m:\n",
      "\u001b[1;31mKeyboardInterrupt\u001b[0m: "
     ]
    }
   ],
   "source": [
    "results=[]\n",
    "for r in range(1,500,1):\n",
    "    clf = RandomForestClassifier(\n",
    "        max_depth=4\n",
    "        # ,n_estimators=200\n",
    "        ,n_jobs=-1\n",
    "        ,random_state=r\n",
    "        )\n",
    "    clf.fit(x_train,y_train) # 학습\n",
    "    prediction=clf.predict(test)\n",
    "    result=accuracy_score(test_target,prediction)\n",
    "    print(r,result)\n",
    "    results.append([result])\n",
    "print(max(results))\n",
    "submission = pd.DataFrame(\n",
    "    {\n",
    "        \"PassengerId\":PassenegerID,\n",
    "        \"Survived\": prediction\n",
    "    }\n",
    ")\n",
    "submission.to_csv('titanic80.6.csv', index=False)\n",
    "\n",
    "#est:200 ,max:3 ,max_Feature=1"
   ]
  },
  {
   "cell_type": "code",
   "execution_count": null,
   "metadata": {},
   "outputs": [
    {
     "data": {
      "image/png": "[encoded data removed]",
      "text/plain": [
       "<Figure size 800x600 with 1 Axes>"
      ]
     },
     "metadata": {},
     "output_type": "display_data"
    }
   ],
   "source": [
    "import matplotlib.pyplot as plt\n",
    "import seaborn as sns\n",
    "%matplotlib inline\n",
    "\n",
    "clf = RandomForestClassifier(n_estimators=50,max_depth=4,max_features=2,min_samples_leaf=3,min_samples_split=2)\n",
    "clf.fit(x_train,y_train)\n",
    "ftr_importances_values = clf.feature_importances_\n",
    "ftr_importances = pd.Series(ftr_importances_values, index = x_train.columns)\n",
    "ftr_top10 = ftr_importances.sort_values(ascending=False)[:10]\n",
    "\n",
    "plt.figure(figsize=(8,6))\n",
    "plt.title('Top 10 Feature Importances')\n",
    "sns.barplot(x=ftr_top10, y=ftr_top10.index)\n",
    "plt.show()"
   ]
  }
 ],
 "metadata": {
  "kernelspec": {
   "display_name": "pandas-dev",
   "language": "python",
   "name": "python3"
  },
  "language_info": {
   "codemirror_mode": {
    "name": "ipython",
    "version": 3
   },
   "file_extension": ".py",
   "mimetype": "text/x-python",
   "name": "python",
   "nbconvert_exporter": "python",
   "pygments_lexer": "ipython3",
   "version": "3.10.10"
  },
  "orig_nbformat": 4
 },
 "nbformat": 4,
 "nbformat_minor": 2
}
